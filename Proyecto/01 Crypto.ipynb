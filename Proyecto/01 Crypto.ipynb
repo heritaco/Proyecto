{
 "cells": [
  {
   "cell_type": "markdown",
   "metadata": {},
   "source": [
    "# Portafolio de Crypto"
   ]
  },
  {
   "cell_type": "markdown",
   "metadata": {},
   "source": [
    "Acabo de meter mi dinero a Binance, estaba haciendo copy-traiding, pero los que le mueven no saben de esto :p"
   ]
  },
  {
   "cell_type": "markdown",
   "metadata": {},
   "source": [
    "### Código"
   ]
  },
  {
   "cell_type": "code",
   "execution_count": null,
   "metadata": {},
   "outputs": [],
   "source": [
    "import pandas as pd\n",
    "import yfinance as yf\n",
    "\n",
    "from datetime import datetime\n",
    "\n",
    "from pypfopt.efficient_frontier import EfficientFrontier\n",
    "from pypfopt import risk_models\n",
    "from pypfopt import expected_returns"
   ]
  },
  {
   "cell_type": "code",
   "execution_count": 2,
   "metadata": {},
   "outputs": [],
   "source": [
    "cryptos = [\n",
    "    \"BTC-USD\",  # Bitcoin\n",
    "    \"ETH-USD\",  # Ethereum\n",
    "    \"USDT-USD\", # Tether\n",
    "    \"BNB-USD\",  # Binance Coin\n",
    "    \"USDC-USD\", # USD Coin\n",
    "    \"XRP-USD\",  # XRP\n",
    "    \"ADA-USD\",  # Cardano\n",
    "    \"SOL-USD\",  # Solana\n",
    "    \"DOGE-USD\", # Dogecoin\n",
    "    \"TRX-USD\",  # Tron\n",
    "    \"TON-USD\",  # Toncoin\n",
    "    \"MATIC-USD\",# Polygon\n",
    "    \"DOT-USD\",  # Polkadot\n",
    "    \"LTC-USD\",  # Litecoin\n",
    "    \"AVAX-USD\", # Avalanche\n",
    "    \"WBTC-USD\", # Wrapped Bitcoin\n",
    "    \"DAI-USD\"   # DAI\n",
    "]"
   ]
  },
  {
   "cell_type": "code",
   "execution_count": 3,
   "metadata": {},
   "outputs": [],
   "source": [
    "adj_close_list = []\n",
    "\n",
    "for crypto in cryptos:\n",
    "    \n",
    "    stock = yf.Ticker(crypto)\n",
    "    hist = stock.history(period=\"max\")\n",
    "    adj_close_list.append(hist['Close'].rename(crypto))\n",
    "\n",
    "    data = pd.concat(adj_close_list, axis=1)\n",
    "\n",
    "    data.to_csv(\"crypto_adj_close.csv\", index=True)\n",
    "\n",
    "    data.dropna(inplace=True) "
   ]
  },
  {
   "cell_type": "code",
   "execution_count": 4,
   "metadata": {},
   "outputs": [],
   "source": [
    "def portafolio(data, total_investment: int, obj: str, start_date: str, end_date: str, date: bool, freq: int):\n",
    "\n",
    "    if date:\n",
    "        data = data.loc[start_date:end_date]\n",
    "\n",
    "    mu = expected_returns.mean_historical_return(data, frequency=freq)\n",
    "    s = risk_models.sample_cov(data, frequency=freq)\n",
    "\n",
    "    ef = EfficientFrontier(mu, s)\n",
    "    \n",
    "    if obj == \"max sharpe\":\n",
    "        weights = ef.max_sharpe()\n",
    "\n",
    "    elif obj == \"min volatuility\":\n",
    "        weights = ef.min_volatility()\n",
    "\n",
    "    elif obj == \"max return\":\n",
    "        weights = ef.max_quadratic_utility()\n",
    "\n",
    "    elif obj == \"efficient_risk\":\n",
    "        weights = ef.efficient_risk(0.1)\n",
    "\n",
    "    elif obj == \"efficient_return\":\n",
    "        weights = ef.efficient_return(0.1)\n",
    "\n",
    "    amounts = ef.clean_weights()\n",
    "\n",
    "    for crypto, weight in weights.items():\n",
    "        amounts[crypto] = weight * total_investment\n",
    "\n",
    "    print(f\"Amounts to invest in each crypto to {obj}:\")\n",
    "    for crypto, amount in amounts.items():\n",
    "        if amount > 0:\n",
    "            print(f\"{crypto}: ${amount:.2f}\")\n",
    "\n",
    "    print(\"\\nExpected return, volatility and Sharpe ratio:\")\n",
    "\n",
    "    print(ef.portfolio_performance(verbose=True))\n",
    "\n",
    "    return"
   ]
  },
  {
   "cell_type": "markdown",
   "metadata": {},
   "source": [
    "### Ejemplos"
   ]
  },
  {
   "cell_type": "code",
   "execution_count": 5,
   "metadata": {},
   "outputs": [
    {
     "name": "stdout",
     "output_type": "stream",
     "text": [
      "Amounts to invest in each crypto to max sharpe:\n",
      "BNB-USD: $490.24\n",
      "XRP-USD: $525.02\n",
      "DOGE-USD: $276.92\n",
      "TRX-USD: $161.82\n",
      "\n",
      "Expected return, volatility and Sharpe ratio:\n",
      "Expected annual return: 238.8%\n",
      "Annual volatility: 57.5%\n",
      "Sharpe Ratio: 4.12\n",
      "(2.3879676633084648, 0.5749177206231751, 4.118794008891802)\n"
     ]
    }
   ],
   "source": [
    "portafolio(data, 1454, \"max sharpe\", \"2023-12-14\", \"2024-12-12\", date=True, freq=365)"
   ]
  },
  {
   "cell_type": "code",
   "execution_count": 6,
   "metadata": {},
   "outputs": [
    {
     "name": "stdout",
     "output_type": "stream",
     "text": [
      "Amounts to invest in each crypto to max sharpe:\n",
      "BNB-USD: $504.50\n",
      "SOL-USD: $63.71\n",
      "DOGE-USD: $431.79\n",
      "\n",
      "Expected return, volatility and Sharpe ratio:\n",
      "Expected annual return: 5.1%\n",
      "Annual volatility: 13.8%\n",
      "Sharpe Ratio: 0.23\n",
      "(0.05112196132210648, 0.13816164100832815, 0.22525761198964409)\n"
     ]
    }
   ],
   "source": [
    "portafolio(data, 1000, \"max sharpe\", \"2023-12-14\", \"2024-11-12\", date=True, freq=15)"
   ]
  }
 ],
 "metadata": {
  "kernelspec": {
   "display_name": "Python 3",
   "language": "python",
   "name": "python3"
  },
  "language_info": {
   "codemirror_mode": {
    "name": "ipython",
    "version": 3
   },
   "file_extension": ".py",
   "mimetype": "text/x-python",
   "name": "python",
   "nbconvert_exporter": "python",
   "pygments_lexer": "ipython3",
   "version": "3.12.1"
  }
 },
 "nbformat": 4,
 "nbformat_minor": 2
}
