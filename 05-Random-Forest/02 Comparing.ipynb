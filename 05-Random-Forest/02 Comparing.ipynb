{
 "cells": [
  {
   "cell_type": "code",
   "execution_count": 7,
   "metadata": {},
   "outputs": [],
   "source": [
    "import pandas as pd\n",
    "import yfinance as yf"
   ]
  },
  {
   "cell_type": "code",
   "execution_count": 9,
   "metadata": {},
   "outputs": [],
   "source": [
    "# Obtener datos históricos del S&P 500 (últimos 100 días)\n",
    "sp = pd.read_csv('S&P500-2025-01-10.csv', index_col='Date')\n",
    "sp = sp.loc['2020-01-01':'2025-01-01']"
   ]
  },
  {
   "cell_type": "code",
   "execution_count": null,
   "metadata": {},
   "outputs": [
    {
     "name": "stdout",
     "output_type": "stream",
     "text": [
      "                           Close_Ratio_2  Trend_2  Close_Ratio_5  Trend_5  \\\n",
      "Date                                                                        \n",
      "2024-12-24 05:00:00+00:00       1.005491      2.0       1.017383      3.0   \n",
      "2024-12-26 05:00:00+00:00       0.999797      1.0       1.011334      3.0   \n",
      "2024-12-27 05:00:00+00:00       0.994441      0.0       0.996689      3.0   \n",
      "2024-12-30 05:00:00+00:00       0.994620      0.0       0.986810      2.0   \n",
      "2024-12-31 05:00:00+00:00       0.997853      0.0       0.985626      1.0   \n",
      "\n",
      "                           Close_Ratio_60  Trend_60  Close_Ratio_250  \\\n",
      "Date                                                                   \n",
      "2024-12-24 05:00:00+00:00        1.023002      35.0         1.115492   \n",
      "2024-12-26 05:00:00+00:00        1.021639      35.0         1.114008   \n",
      "2024-12-27 05:00:00+00:00        1.009600      34.0         1.100716   \n",
      "2024-12-30 05:00:00+00:00        0.998213      34.0         1.088002   \n",
      "2024-12-31 05:00:00+00:00        0.993570      33.0         1.082402   \n",
      "\n",
      "                           Trend_250  Close_Ratio_1000  Trend_1000  \n",
      "Date                                                                \n",
      "2024-12-24 05:00:00+00:00      144.0          1.337188       531.0  \n",
      "2024-12-26 05:00:00+00:00      143.0          1.335962       530.0  \n",
      "2024-12-27 05:00:00+00:00      143.0          1.320543       529.0  \n",
      "2024-12-30 05:00:00+00:00      143.0          1.305803       528.0  \n",
      "2024-12-31 05:00:00+00:00      143.0          1.299617       527.0  \n"
     ]
    }
   ],
   "source": [
    "horizons = [2, 5, 60, 250, 1000]    # Horizontes de tiempo como mencionaste\n",
    "new_predictors = []  # Lista de nuevos predictores\n",
    "\n",
    "# Calcular los nuevos predictores\n",
    "for horizon in horizons:\n",
    "    rolling_averages = sp.rolling(horizon).mean()\n",
    "    \n",
    "    ratio_column = f\"Close_Ratio_{horizon}\"\n",
    "    sp[ratio_column] = sp[\"Close\"] / rolling_averages[\"Close\"]\n",
    "    \n",
    "    trend_column = f\"Trend_{horizon}\"\n",
    "    sp[trend_column] = sp.shift(1).rolling(horizon).sum()[\"Target\"]\n",
    "    \n",
    "    new_predictors+= [ratio_column, trend_column]\n",
    "\n",
    "# Mostrar las nuevas características creadas\n",
    "print(sp[new_predictors].tail())"
   ]
  },
  {
   "cell_type": "code",
   "execution_count": 11,
   "metadata": {},
   "outputs": [],
   "source": [
    "# Seleccionar las columnas generadas como predictores\n",
    "X_pred = sp[new_predictors].dropna()  # Eliminar valores nulos\n",
    "\n",
    "# Asegúrate de que las predicciones solo se hagan sobre los datos que contienen características completas"
   ]
  },
  {
   "cell_type": "code",
   "execution_count": 12,
   "metadata": {},
   "outputs": [
    {
     "name": "stdout",
     "output_type": "stream",
     "text": [
      "[1 1 1 1 0 0 0 0 1 1 0 1 1 1 1 0 1 1 1 1 1 1 0 1 0 1 1 1 0 1 1 1 1 0 1 1 1\n",
      " 1 0 1 1 1 0 1 0 1 1 0 0 1 1 0 0 1 0 0 0 1 1 1 1 0 0 0 1 1 0 0 1 0 1 0 1 1\n",
      " 1 0 0 0 0 0 1 1 1 1 1 1 1 1 0 1 1 1 1 1 1 1 1 1 1 0 1 1 1 1 1 1 1 1 1 1 1\n",
      " 1 1 0 1 1 1 1 1 0 1 1 0 0 0 1 1 1 1 1 1 1 1 1 1 1 0 0 1 1 0 0 0 1 0 0 1 1\n",
      " 1 0 1 0 0 0 1 0 1 1 1 1 1 1 1 1 1 1 0 1 0 1 1 1 1 0 0 0 0 1 1 1 1 1 1 1 1\n",
      " 1 0 1 1 0 1 1 1 1 0 0 1 1 1 1 1 1 1 1 1 1 1 1 1 1 1 0 1 1 1 1 0 1 1 1 0 0\n",
      " 0 0 1 1 1 0 0 1 1 1 1 0 0 1 1 0 0 0 1 0 0 0 1 0 1 0 1 1 1 0 1 1 1 0 0 1]\n"
     ]
    }
   ],
   "source": [
    "import joblib\n",
    "\n",
    "# Cargar el modelo previamente entrenado\n",
    "rf_model = joblib.load('modelo_random_forest.pkl')\n",
    "\n",
    "# Realizar las predicciones para los últimos 100 días\n",
    "predicciones = rf_model.predict(X_pred)\n",
    "\n",
    "# Ver las predicciones\n",
    "print(predicciones)"
   ]
  },
  {
   "cell_type": "code",
   "execution_count": 14,
   "metadata": {},
   "outputs": [
    {
     "data": {
      "text/plain": [
       "258"
      ]
     },
     "execution_count": 14,
     "metadata": {},
     "output_type": "execute_result"
    }
   ],
   "source": [
    "len(predicciones)"
   ]
  },
  {
   "cell_type": "code",
   "execution_count": 16,
   "metadata": {},
   "outputs": [
    {
     "data": {
      "text/plain": [
       "1258"
      ]
     },
     "execution_count": 16,
     "metadata": {},
     "output_type": "execute_result"
    }
   ],
   "source": [
    "len(sp)"
   ]
  },
  {
   "cell_type": "code",
   "execution_count": 17,
   "metadata": {},
   "outputs": [
    {
     "name": "stdout",
     "output_type": "stream",
     "text": [
      "Valor final siguiendo el modelo: $0.82\n"
     ]
    }
   ],
   "source": [
    "# Inicializamos el capital y otras variables\n",
    "capital = 1  # Empezamos con $1\n",
    "comprado = False\n",
    "precio_compra = 0\n",
    "\n",
    "# Simulación de las decisiones de inversión basadas en las predicciones\n",
    "for i in range(1, len(X_pred)):\n",
    "    prediccion = predicciones[i-1]  # Predicción del modelo para el día anterior\n",
    "    precio_actual = sp[\"Close\"].iloc[i]\n",
    "\n",
    "    if prediccion == 1 and not comprado:  # Si el modelo predice que subirá y no hemos comprado\n",
    "        comprado = True\n",
    "        precio_compra = precio_actual\n",
    "    elif prediccion == 0 and comprado:  # Si el modelo predice que bajará y ya hemos comprado\n",
    "        capital *= (precio_actual / precio_compra)  # Rentabilidad de la inversión\n",
    "        comprado = False\n",
    "\n",
    "# Si al final seguimos con la inversión, vendemos al final\n",
    "if comprado:\n",
    "    capital *= (sp[\"Close\"].iloc[-1] / precio_compra)\n",
    "\n",
    "print(f\"Valor final siguiendo el modelo: ${capital:.2f}\")\n"
   ]
  },
  {
   "cell_type": "code",
   "execution_count": 18,
   "metadata": {},
   "outputs": [
    {
     "name": "stdout",
     "output_type": "stream",
     "text": [
      "Valor de la inversión pasiva: $1.81\n",
      "Valor siguiendo el modelo: $0.82\n"
     ]
    }
   ],
   "source": [
    "# Calcular el rendimiento de la inversión pasiva\n",
    "precio_inicio = sp[\"Close\"].iloc[0]\n",
    "precio_final = sp[\"Close\"].iloc[-1]\n",
    "rendimiento_sp500 = (precio_final / precio_inicio) * 1\n",
    "\n",
    "# Comparar ambos resultados\n",
    "print(f\"Valor de la inversión pasiva: ${rendimiento_sp500:.2f}\")\n",
    "print(f\"Valor siguiendo el modelo: ${capital:.2f}\")\n"
   ]
  }
 ],
 "metadata": {
  "kernelspec": {
   "display_name": "Python 3",
   "language": "python",
   "name": "python3"
  },
  "language_info": {
   "codemirror_mode": {
    "name": "ipython",
    "version": 3
   },
   "file_extension": ".py",
   "mimetype": "text/x-python",
   "name": "python",
   "nbconvert_exporter": "python",
   "pygments_lexer": "ipython3",
   "version": "3.12.1"
  }
 },
 "nbformat": 4,
 "nbformat_minor": 2
}
